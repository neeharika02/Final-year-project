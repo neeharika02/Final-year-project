{
 "cells": [
  {
   "cell_type": "code",
   "execution_count": 5,
   "id": "e101159a",
   "metadata": {
    "colab": {
     "base_uri": "https://localhost:8080/",
     "height": 145
    },
    "executionInfo": {
     "elapsed": 96,
     "status": "error",
     "timestamp": 1699598686382,
     "user": {
      "displayName": "pantech e learning",
      "userId": "02085171050783995221"
     },
     "user_tz": -330
    },
    "id": "e101159a",
    "outputId": "b6ae5923-2eb9-48cf-e397-411a9e2948a4"
   },
   "outputs": [],
   "source": [
    "import warnings\n",
    "warnings.filterwarnings('ignore')\n",
    "\n",
    "import pandas as pd\n",
    "import numpy as np\n",
    "import matplotlib.pyplot as plt\n",
    "%matplotlib inline\n",
    "import seaborn as sns\n",
    "\n",
    "from sklearn.preprocessing import LabelEncoder\n",
    "from sklearn.model_selection import train_test_split\n",
    "\n",
    "#import packages for Machine Learning Models\n",
    "from sklearn.linear_model import LogisticRegression\n",
    "from sklearn import tree\n",
    "from sklearn.ensemble import RandomForestClassifier\n",
    "from sklearn.svm import SVC\n"
   ]
  },
  {
   "cell_type": "code",
   "execution_count": 6,
   "id": "e6f6e91a",
   "metadata": {
    "executionInfo": {
     "elapsed": 85,
     "status": "aborted",
     "timestamp": 1699598686383,
     "user": {
      "displayName": "pantech e learning",
      "userId": "02085171050783995221"
     },
     "user_tz": -330
    },
    "id": "e6f6e91a"
   },
   "outputs": [
    {
     "data": {
      "text/html": [
       "<div>\n",
       "<style scoped>\n",
       "    .dataframe tbody tr th:only-of-type {\n",
       "        vertical-align: middle;\n",
       "    }\n",
       "\n",
       "    .dataframe tbody tr th {\n",
       "        vertical-align: top;\n",
       "    }\n",
       "\n",
       "    .dataframe thead th {\n",
       "        text-align: right;\n",
       "    }\n",
       "</style>\n",
       "<table border=\"1\" class=\"dataframe\">\n",
       "  <thead>\n",
       "    <tr style=\"text-align: right;\">\n",
       "      <th></th>\n",
       "      <th>id</th>\n",
       "      <th>gender</th>\n",
       "      <th>age</th>\n",
       "      <th>hypertension</th>\n",
       "      <th>heart_disease</th>\n",
       "      <th>ever_married</th>\n",
       "      <th>work_type</th>\n",
       "      <th>Residence_type</th>\n",
       "      <th>avg_glucose_level</th>\n",
       "      <th>bmi</th>\n",
       "      <th>smoking_status</th>\n",
       "      <th>stroke</th>\n",
       "    </tr>\n",
       "  </thead>\n",
       "  <tbody>\n",
       "    <tr>\n",
       "      <th>0</th>\n",
       "      <td>9046</td>\n",
       "      <td>Male</td>\n",
       "      <td>67.0</td>\n",
       "      <td>0</td>\n",
       "      <td>1</td>\n",
       "      <td>Yes</td>\n",
       "      <td>Private</td>\n",
       "      <td>Urban</td>\n",
       "      <td>228.69</td>\n",
       "      <td>36.6</td>\n",
       "      <td>formerly smoked</td>\n",
       "      <td>1</td>\n",
       "    </tr>\n",
       "    <tr>\n",
       "      <th>1</th>\n",
       "      <td>51676</td>\n",
       "      <td>Female</td>\n",
       "      <td>61.0</td>\n",
       "      <td>0</td>\n",
       "      <td>0</td>\n",
       "      <td>Yes</td>\n",
       "      <td>Self-employed</td>\n",
       "      <td>Rural</td>\n",
       "      <td>202.21</td>\n",
       "      <td>NaN</td>\n",
       "      <td>never smoked</td>\n",
       "      <td>1</td>\n",
       "    </tr>\n",
       "    <tr>\n",
       "      <th>2</th>\n",
       "      <td>31112</td>\n",
       "      <td>Male</td>\n",
       "      <td>80.0</td>\n",
       "      <td>0</td>\n",
       "      <td>1</td>\n",
       "      <td>Yes</td>\n",
       "      <td>Private</td>\n",
       "      <td>Rural</td>\n",
       "      <td>105.92</td>\n",
       "      <td>32.5</td>\n",
       "      <td>never smoked</td>\n",
       "      <td>1</td>\n",
       "    </tr>\n",
       "    <tr>\n",
       "      <th>3</th>\n",
       "      <td>60182</td>\n",
       "      <td>Female</td>\n",
       "      <td>49.0</td>\n",
       "      <td>0</td>\n",
       "      <td>0</td>\n",
       "      <td>Yes</td>\n",
       "      <td>Private</td>\n",
       "      <td>Urban</td>\n",
       "      <td>171.23</td>\n",
       "      <td>34.4</td>\n",
       "      <td>smokes</td>\n",
       "      <td>1</td>\n",
       "    </tr>\n",
       "    <tr>\n",
       "      <th>4</th>\n",
       "      <td>1665</td>\n",
       "      <td>Female</td>\n",
       "      <td>79.0</td>\n",
       "      <td>1</td>\n",
       "      <td>0</td>\n",
       "      <td>Yes</td>\n",
       "      <td>Self-employed</td>\n",
       "      <td>Rural</td>\n",
       "      <td>174.12</td>\n",
       "      <td>24.0</td>\n",
       "      <td>never smoked</td>\n",
       "      <td>1</td>\n",
       "    </tr>\n",
       "  </tbody>\n",
       "</table>\n",
       "</div>"
      ],
      "text/plain": [
       "      id  gender   age  hypertension  heart_disease ever_married  \\\n",
       "0   9046    Male  67.0             0              1          Yes   \n",
       "1  51676  Female  61.0             0              0          Yes   \n",
       "2  31112    Male  80.0             0              1          Yes   \n",
       "3  60182  Female  49.0             0              0          Yes   \n",
       "4   1665  Female  79.0             1              0          Yes   \n",
       "\n",
       "       work_type Residence_type  avg_glucose_level   bmi   smoking_status  \\\n",
       "0        Private          Urban             228.69  36.6  formerly smoked   \n",
       "1  Self-employed          Rural             202.21   NaN     never smoked   \n",
       "2        Private          Rural             105.92  32.5     never smoked   \n",
       "3        Private          Urban             171.23  34.4           smokes   \n",
       "4  Self-employed          Rural             174.12  24.0     never smoked   \n",
       "\n",
       "   stroke  \n",
       "0       1  \n",
       "1       1  \n",
       "2       1  \n",
       "3       1  \n",
       "4       1  "
      ]
     },
     "execution_count": 6,
     "metadata": {},
     "output_type": "execute_result"
    }
   ],
   "source": [
    "df1=pd.read_csv(\"healthcare-dataset-stroke-data.csv\")\n",
    "df1.head()"
   ]
  },
  {
   "cell_type": "code",
   "execution_count": 7,
   "id": "79e8ca8e",
   "metadata": {
    "executionInfo": {
     "elapsed": 84,
     "status": "aborted",
     "timestamp": 1699598686384,
     "user": {
      "displayName": "pantech e learning",
      "userId": "02085171050783995221"
     },
     "user_tz": -330
    },
    "id": "79e8ca8e"
   },
   "outputs": [
    {
     "data": {
      "text/plain": [
       "(5110, 12)"
      ]
     },
     "execution_count": 7,
     "metadata": {},
     "output_type": "execute_result"
    }
   ],
   "source": [
    "df1.shape"
   ]
  },
  {
   "cell_type": "code",
   "execution_count": 8,
   "id": "b5223737",
   "metadata": {
    "executionInfo": {
     "elapsed": 83,
     "status": "aborted",
     "timestamp": 1699598686384,
     "user": {
      "displayName": "pantech e learning",
      "userId": "02085171050783995221"
     },
     "user_tz": -330
    },
    "id": "b5223737"
   },
   "outputs": [
    {
     "data": {
      "text/plain": [
       "Index(['id', 'gender', 'age', 'hypertension', 'heart_disease', 'ever_married',\n",
       "       'work_type', 'Residence_type', 'avg_glucose_level', 'bmi',\n",
       "       'smoking_status', 'stroke'],\n",
       "      dtype='object')"
      ]
     },
     "execution_count": 8,
     "metadata": {},
     "output_type": "execute_result"
    }
   ],
   "source": [
    "df1.columns"
   ]
  },
  {
   "cell_type": "code",
   "execution_count": 9,
   "id": "16a85e0a",
   "metadata": {
    "executionInfo": {
     "elapsed": 83,
     "status": "aborted",
     "timestamp": 1699598686385,
     "user": {
      "displayName": "pantech e learning",
      "userId": "02085171050783995221"
     },
     "user_tz": -330
    },
    "id": "16a85e0a"
   },
   "outputs": [
    {
     "data": {
      "text/html": [
       "<div>\n",
       "<style scoped>\n",
       "    .dataframe tbody tr th:only-of-type {\n",
       "        vertical-align: middle;\n",
       "    }\n",
       "\n",
       "    .dataframe tbody tr th {\n",
       "        vertical-align: top;\n",
       "    }\n",
       "\n",
       "    .dataframe thead th {\n",
       "        text-align: right;\n",
       "    }\n",
       "</style>\n",
       "<table border=\"1\" class=\"dataframe\">\n",
       "  <thead>\n",
       "    <tr style=\"text-align: right;\">\n",
       "      <th></th>\n",
       "      <th>id</th>\n",
       "      <th>age</th>\n",
       "      <th>hypertension</th>\n",
       "      <th>heart_disease</th>\n",
       "      <th>avg_glucose_level</th>\n",
       "      <th>bmi</th>\n",
       "      <th>stroke</th>\n",
       "    </tr>\n",
       "  </thead>\n",
       "  <tbody>\n",
       "    <tr>\n",
       "      <th>count</th>\n",
       "      <td>5110.000000</td>\n",
       "      <td>5110.000000</td>\n",
       "      <td>5110.000000</td>\n",
       "      <td>5110.000000</td>\n",
       "      <td>5110.000000</td>\n",
       "      <td>4909.000000</td>\n",
       "      <td>5110.000000</td>\n",
       "    </tr>\n",
       "    <tr>\n",
       "      <th>mean</th>\n",
       "      <td>36517.829354</td>\n",
       "      <td>43.226614</td>\n",
       "      <td>0.097456</td>\n",
       "      <td>0.054012</td>\n",
       "      <td>106.147677</td>\n",
       "      <td>28.893237</td>\n",
       "      <td>0.048728</td>\n",
       "    </tr>\n",
       "    <tr>\n",
       "      <th>std</th>\n",
       "      <td>21161.721625</td>\n",
       "      <td>22.612647</td>\n",
       "      <td>0.296607</td>\n",
       "      <td>0.226063</td>\n",
       "      <td>45.283560</td>\n",
       "      <td>7.854067</td>\n",
       "      <td>0.215320</td>\n",
       "    </tr>\n",
       "    <tr>\n",
       "      <th>min</th>\n",
       "      <td>67.000000</td>\n",
       "      <td>0.080000</td>\n",
       "      <td>0.000000</td>\n",
       "      <td>0.000000</td>\n",
       "      <td>55.120000</td>\n",
       "      <td>10.300000</td>\n",
       "      <td>0.000000</td>\n",
       "    </tr>\n",
       "    <tr>\n",
       "      <th>25%</th>\n",
       "      <td>17741.250000</td>\n",
       "      <td>25.000000</td>\n",
       "      <td>0.000000</td>\n",
       "      <td>0.000000</td>\n",
       "      <td>77.245000</td>\n",
       "      <td>23.500000</td>\n",
       "      <td>0.000000</td>\n",
       "    </tr>\n",
       "    <tr>\n",
       "      <th>50%</th>\n",
       "      <td>36932.000000</td>\n",
       "      <td>45.000000</td>\n",
       "      <td>0.000000</td>\n",
       "      <td>0.000000</td>\n",
       "      <td>91.885000</td>\n",
       "      <td>28.100000</td>\n",
       "      <td>0.000000</td>\n",
       "    </tr>\n",
       "    <tr>\n",
       "      <th>75%</th>\n",
       "      <td>54682.000000</td>\n",
       "      <td>61.000000</td>\n",
       "      <td>0.000000</td>\n",
       "      <td>0.000000</td>\n",
       "      <td>114.090000</td>\n",
       "      <td>33.100000</td>\n",
       "      <td>0.000000</td>\n",
       "    </tr>\n",
       "    <tr>\n",
       "      <th>max</th>\n",
       "      <td>72940.000000</td>\n",
       "      <td>82.000000</td>\n",
       "      <td>1.000000</td>\n",
       "      <td>1.000000</td>\n",
       "      <td>271.740000</td>\n",
       "      <td>97.600000</td>\n",
       "      <td>1.000000</td>\n",
       "    </tr>\n",
       "  </tbody>\n",
       "</table>\n",
       "</div>"
      ],
      "text/plain": [
       "                 id          age  hypertension  heart_disease  \\\n",
       "count   5110.000000  5110.000000   5110.000000    5110.000000   \n",
       "mean   36517.829354    43.226614      0.097456       0.054012   \n",
       "std    21161.721625    22.612647      0.296607       0.226063   \n",
       "min       67.000000     0.080000      0.000000       0.000000   \n",
       "25%    17741.250000    25.000000      0.000000       0.000000   \n",
       "50%    36932.000000    45.000000      0.000000       0.000000   \n",
       "75%    54682.000000    61.000000      0.000000       0.000000   \n",
       "max    72940.000000    82.000000      1.000000       1.000000   \n",
       "\n",
       "       avg_glucose_level          bmi       stroke  \n",
       "count        5110.000000  4909.000000  5110.000000  \n",
       "mean          106.147677    28.893237     0.048728  \n",
       "std            45.283560     7.854067     0.215320  \n",
       "min            55.120000    10.300000     0.000000  \n",
       "25%            77.245000    23.500000     0.000000  \n",
       "50%            91.885000    28.100000     0.000000  \n",
       "75%           114.090000    33.100000     0.000000  \n",
       "max           271.740000    97.600000     1.000000  "
      ]
     },
     "execution_count": 9,
     "metadata": {},
     "output_type": "execute_result"
    }
   ],
   "source": [
    "df1.describe()"
   ]
  },
  {
   "cell_type": "code",
   "execution_count": 10,
   "id": "3a0e2af6",
   "metadata": {
    "executionInfo": {
     "elapsed": 83,
     "status": "aborted",
     "timestamp": 1699598686385,
     "user": {
      "displayName": "pantech e learning",
      "userId": "02085171050783995221"
     },
     "user_tz": -330
    },
    "id": "3a0e2af6"
   },
   "outputs": [
    {
     "name": "stdout",
     "output_type": "stream",
     "text": [
      "<class 'pandas.core.frame.DataFrame'>\n",
      "RangeIndex: 5110 entries, 0 to 5109\n",
      "Data columns (total 12 columns):\n",
      " #   Column             Non-Null Count  Dtype  \n",
      "---  ------             --------------  -----  \n",
      " 0   id                 5110 non-null   int64  \n",
      " 1   gender             5110 non-null   object \n",
      " 2   age                5110 non-null   float64\n",
      " 3   hypertension       5110 non-null   int64  \n",
      " 4   heart_disease      5110 non-null   int64  \n",
      " 5   ever_married       5110 non-null   object \n",
      " 6   work_type          5110 non-null   object \n",
      " 7   Residence_type     5110 non-null   object \n",
      " 8   avg_glucose_level  5110 non-null   float64\n",
      " 9   bmi                4909 non-null   float64\n",
      " 10  smoking_status     5110 non-null   object \n",
      " 11  stroke             5110 non-null   int64  \n",
      "dtypes: float64(3), int64(4), object(5)\n",
      "memory usage: 479.2+ KB\n"
     ]
    }
   ],
   "source": [
    "df1.info()"
   ]
  },
  {
   "cell_type": "code",
   "execution_count": 11,
   "id": "929faa40",
   "metadata": {
    "executionInfo": {
     "elapsed": 83,
     "status": "aborted",
     "timestamp": 1699598686386,
     "user": {
      "displayName": "pantech e learning",
      "userId": "02085171050783995221"
     },
     "user_tz": -330
    },
    "id": "929faa40"
   },
   "outputs": [
    {
     "data": {
      "text/html": [
       "<div>\n",
       "<style scoped>\n",
       "    .dataframe tbody tr th:only-of-type {\n",
       "        vertical-align: middle;\n",
       "    }\n",
       "\n",
       "    .dataframe tbody tr th {\n",
       "        vertical-align: top;\n",
       "    }\n",
       "\n",
       "    .dataframe thead th {\n",
       "        text-align: right;\n",
       "    }\n",
       "</style>\n",
       "<table border=\"1\" class=\"dataframe\">\n",
       "  <thead>\n",
       "    <tr style=\"text-align: right;\">\n",
       "      <th></th>\n",
       "      <th>gender</th>\n",
       "      <th>age</th>\n",
       "      <th>hypertension</th>\n",
       "      <th>heart_disease</th>\n",
       "      <th>ever_married</th>\n",
       "      <th>work_type</th>\n",
       "      <th>Residence_type</th>\n",
       "      <th>avg_glucose_level</th>\n",
       "      <th>bmi</th>\n",
       "      <th>smoking_status</th>\n",
       "      <th>stroke</th>\n",
       "    </tr>\n",
       "  </thead>\n",
       "  <tbody>\n",
       "    <tr>\n",
       "      <th>0</th>\n",
       "      <td>Male</td>\n",
       "      <td>67.0</td>\n",
       "      <td>0</td>\n",
       "      <td>1</td>\n",
       "      <td>Yes</td>\n",
       "      <td>Private</td>\n",
       "      <td>Urban</td>\n",
       "      <td>228.69</td>\n",
       "      <td>36.6</td>\n",
       "      <td>formerly smoked</td>\n",
       "      <td>1</td>\n",
       "    </tr>\n",
       "    <tr>\n",
       "      <th>1</th>\n",
       "      <td>Female</td>\n",
       "      <td>61.0</td>\n",
       "      <td>0</td>\n",
       "      <td>0</td>\n",
       "      <td>Yes</td>\n",
       "      <td>Self-employed</td>\n",
       "      <td>Rural</td>\n",
       "      <td>202.21</td>\n",
       "      <td>NaN</td>\n",
       "      <td>never smoked</td>\n",
       "      <td>1</td>\n",
       "    </tr>\n",
       "    <tr>\n",
       "      <th>2</th>\n",
       "      <td>Male</td>\n",
       "      <td>80.0</td>\n",
       "      <td>0</td>\n",
       "      <td>1</td>\n",
       "      <td>Yes</td>\n",
       "      <td>Private</td>\n",
       "      <td>Rural</td>\n",
       "      <td>105.92</td>\n",
       "      <td>32.5</td>\n",
       "      <td>never smoked</td>\n",
       "      <td>1</td>\n",
       "    </tr>\n",
       "    <tr>\n",
       "      <th>3</th>\n",
       "      <td>Female</td>\n",
       "      <td>49.0</td>\n",
       "      <td>0</td>\n",
       "      <td>0</td>\n",
       "      <td>Yes</td>\n",
       "      <td>Private</td>\n",
       "      <td>Urban</td>\n",
       "      <td>171.23</td>\n",
       "      <td>34.4</td>\n",
       "      <td>smokes</td>\n",
       "      <td>1</td>\n",
       "    </tr>\n",
       "    <tr>\n",
       "      <th>4</th>\n",
       "      <td>Female</td>\n",
       "      <td>79.0</td>\n",
       "      <td>1</td>\n",
       "      <td>0</td>\n",
       "      <td>Yes</td>\n",
       "      <td>Self-employed</td>\n",
       "      <td>Rural</td>\n",
       "      <td>174.12</td>\n",
       "      <td>24.0</td>\n",
       "      <td>never smoked</td>\n",
       "      <td>1</td>\n",
       "    </tr>\n",
       "    <tr>\n",
       "      <th>...</th>\n",
       "      <td>...</td>\n",
       "      <td>...</td>\n",
       "      <td>...</td>\n",
       "      <td>...</td>\n",
       "      <td>...</td>\n",
       "      <td>...</td>\n",
       "      <td>...</td>\n",
       "      <td>...</td>\n",
       "      <td>...</td>\n",
       "      <td>...</td>\n",
       "      <td>...</td>\n",
       "    </tr>\n",
       "    <tr>\n",
       "      <th>5105</th>\n",
       "      <td>Female</td>\n",
       "      <td>80.0</td>\n",
       "      <td>1</td>\n",
       "      <td>0</td>\n",
       "      <td>Yes</td>\n",
       "      <td>Private</td>\n",
       "      <td>Urban</td>\n",
       "      <td>83.75</td>\n",
       "      <td>NaN</td>\n",
       "      <td>never smoked</td>\n",
       "      <td>0</td>\n",
       "    </tr>\n",
       "    <tr>\n",
       "      <th>5106</th>\n",
       "      <td>Female</td>\n",
       "      <td>81.0</td>\n",
       "      <td>0</td>\n",
       "      <td>0</td>\n",
       "      <td>Yes</td>\n",
       "      <td>Self-employed</td>\n",
       "      <td>Urban</td>\n",
       "      <td>125.20</td>\n",
       "      <td>40.0</td>\n",
       "      <td>never smoked</td>\n",
       "      <td>0</td>\n",
       "    </tr>\n",
       "    <tr>\n",
       "      <th>5107</th>\n",
       "      <td>Female</td>\n",
       "      <td>35.0</td>\n",
       "      <td>0</td>\n",
       "      <td>0</td>\n",
       "      <td>Yes</td>\n",
       "      <td>Self-employed</td>\n",
       "      <td>Rural</td>\n",
       "      <td>82.99</td>\n",
       "      <td>30.6</td>\n",
       "      <td>never smoked</td>\n",
       "      <td>0</td>\n",
       "    </tr>\n",
       "    <tr>\n",
       "      <th>5108</th>\n",
       "      <td>Male</td>\n",
       "      <td>51.0</td>\n",
       "      <td>0</td>\n",
       "      <td>0</td>\n",
       "      <td>Yes</td>\n",
       "      <td>Private</td>\n",
       "      <td>Rural</td>\n",
       "      <td>166.29</td>\n",
       "      <td>25.6</td>\n",
       "      <td>formerly smoked</td>\n",
       "      <td>0</td>\n",
       "    </tr>\n",
       "    <tr>\n",
       "      <th>5109</th>\n",
       "      <td>Female</td>\n",
       "      <td>44.0</td>\n",
       "      <td>0</td>\n",
       "      <td>0</td>\n",
       "      <td>Yes</td>\n",
       "      <td>Govt_job</td>\n",
       "      <td>Urban</td>\n",
       "      <td>85.28</td>\n",
       "      <td>26.2</td>\n",
       "      <td>Unknown</td>\n",
       "      <td>0</td>\n",
       "    </tr>\n",
       "  </tbody>\n",
       "</table>\n",
       "<p>5110 rows × 11 columns</p>\n",
       "</div>"
      ],
      "text/plain": [
       "      gender   age  hypertension  heart_disease ever_married      work_type  \\\n",
       "0       Male  67.0             0              1          Yes        Private   \n",
       "1     Female  61.0             0              0          Yes  Self-employed   \n",
       "2       Male  80.0             0              1          Yes        Private   \n",
       "3     Female  49.0             0              0          Yes        Private   \n",
       "4     Female  79.0             1              0          Yes  Self-employed   \n",
       "...      ...   ...           ...            ...          ...            ...   \n",
       "5105  Female  80.0             1              0          Yes        Private   \n",
       "5106  Female  81.0             0              0          Yes  Self-employed   \n",
       "5107  Female  35.0             0              0          Yes  Self-employed   \n",
       "5108    Male  51.0             0              0          Yes        Private   \n",
       "5109  Female  44.0             0              0          Yes       Govt_job   \n",
       "\n",
       "     Residence_type  avg_glucose_level   bmi   smoking_status  stroke  \n",
       "0             Urban             228.69  36.6  formerly smoked       1  \n",
       "1             Rural             202.21   NaN     never smoked       1  \n",
       "2             Rural             105.92  32.5     never smoked       1  \n",
       "3             Urban             171.23  34.4           smokes       1  \n",
       "4             Rural             174.12  24.0     never smoked       1  \n",
       "...             ...                ...   ...              ...     ...  \n",
       "5105          Urban              83.75   NaN     never smoked       0  \n",
       "5106          Urban             125.20  40.0     never smoked       0  \n",
       "5107          Rural              82.99  30.6     never smoked       0  \n",
       "5108          Rural             166.29  25.6  formerly smoked       0  \n",
       "5109          Urban              85.28  26.2          Unknown       0  \n",
       "\n",
       "[5110 rows x 11 columns]"
      ]
     },
     "execution_count": 11,
     "metadata": {},
     "output_type": "execute_result"
    }
   ],
   "source": [
    "df2 = df1.drop(['id'],axis='columns')\n",
    "df2"
   ]
  },
  {
   "cell_type": "code",
   "execution_count": 12,
   "id": "9e72869d",
   "metadata": {
    "executionInfo": {
     "elapsed": 78,
     "status": "aborted",
     "timestamp": 1699598686386,
     "user": {
      "displayName": "pantech e learning",
      "userId": "02085171050783995221"
     },
     "user_tz": -330
    },
    "id": "9e72869d"
   },
   "outputs": [
    {
     "data": {
      "text/plain": [
       "gender                 0\n",
       "age                    0\n",
       "hypertension           0\n",
       "heart_disease          0\n",
       "ever_married           0\n",
       "work_type              0\n",
       "Residence_type         0\n",
       "avg_glucose_level      0\n",
       "bmi                  201\n",
       "smoking_status         0\n",
       "stroke                 0\n",
       "dtype: int64"
      ]
     },
     "execution_count": 12,
     "metadata": {},
     "output_type": "execute_result"
    }
   ],
   "source": [
    "df2.isnull().sum()"
   ]
  },
  {
   "cell_type": "code",
   "execution_count": 13,
   "id": "8e18c532",
   "metadata": {
    "executionInfo": {
     "elapsed": 76,
     "status": "aborted",
     "timestamp": 1699598686388,
     "user": {
      "displayName": "pantech e learning",
      "userId": "02085171050783995221"
     },
     "user_tz": -330
    },
    "id": "8e18c532"
   },
   "outputs": [
    {
     "data": {
      "text/plain": [
       "dtype('float64')"
      ]
     },
     "execution_count": 13,
     "metadata": {},
     "output_type": "execute_result"
    }
   ],
   "source": [
    "df2['bmi'].dtype"
   ]
  },
  {
   "cell_type": "code",
   "execution_count": 14,
   "id": "86c29104",
   "metadata": {
    "colab": {
     "base_uri": "https://localhost:8080/",
     "height": 200
    },
    "executionInfo": {
     "elapsed": 77,
     "status": "error",
     "timestamp": 1699598686390,
     "user": {
      "displayName": "pantech e learning",
      "userId": "02085171050783995221"
     },
     "user_tz": -330
    },
    "id": "86c29104",
    "outputId": "693b4c9f-57a8-4856-b764-4458cc8189f5"
   },
   "outputs": [
    {
     "data": {
      "text/html": [
       "<div>\n",
       "<style scoped>\n",
       "    .dataframe tbody tr th:only-of-type {\n",
       "        vertical-align: middle;\n",
       "    }\n",
       "\n",
       "    .dataframe tbody tr th {\n",
       "        vertical-align: top;\n",
       "    }\n",
       "\n",
       "    .dataframe thead th {\n",
       "        text-align: right;\n",
       "    }\n",
       "</style>\n",
       "<table border=\"1\" class=\"dataframe\">\n",
       "  <thead>\n",
       "    <tr style=\"text-align: right;\">\n",
       "      <th></th>\n",
       "      <th>gender</th>\n",
       "      <th>age</th>\n",
       "      <th>hypertension</th>\n",
       "      <th>heart_disease</th>\n",
       "      <th>ever_married</th>\n",
       "      <th>work_type</th>\n",
       "      <th>Residence_type</th>\n",
       "      <th>avg_glucose_level</th>\n",
       "      <th>bmi</th>\n",
       "      <th>smoking_status</th>\n",
       "      <th>stroke</th>\n",
       "    </tr>\n",
       "  </thead>\n",
       "  <tbody>\n",
       "    <tr>\n",
       "      <th>0</th>\n",
       "      <td>Male</td>\n",
       "      <td>67.0</td>\n",
       "      <td>0</td>\n",
       "      <td>1</td>\n",
       "      <td>Yes</td>\n",
       "      <td>Private</td>\n",
       "      <td>Urban</td>\n",
       "      <td>228.69</td>\n",
       "      <td>36.600000</td>\n",
       "      <td>formerly smoked</td>\n",
       "      <td>1</td>\n",
       "    </tr>\n",
       "    <tr>\n",
       "      <th>1</th>\n",
       "      <td>Female</td>\n",
       "      <td>61.0</td>\n",
       "      <td>0</td>\n",
       "      <td>0</td>\n",
       "      <td>Yes</td>\n",
       "      <td>Self-employed</td>\n",
       "      <td>Rural</td>\n",
       "      <td>202.21</td>\n",
       "      <td>28.893237</td>\n",
       "      <td>never smoked</td>\n",
       "      <td>1</td>\n",
       "    </tr>\n",
       "    <tr>\n",
       "      <th>2</th>\n",
       "      <td>Male</td>\n",
       "      <td>80.0</td>\n",
       "      <td>0</td>\n",
       "      <td>1</td>\n",
       "      <td>Yes</td>\n",
       "      <td>Private</td>\n",
       "      <td>Rural</td>\n",
       "      <td>105.92</td>\n",
       "      <td>32.500000</td>\n",
       "      <td>never smoked</td>\n",
       "      <td>1</td>\n",
       "    </tr>\n",
       "    <tr>\n",
       "      <th>3</th>\n",
       "      <td>Female</td>\n",
       "      <td>49.0</td>\n",
       "      <td>0</td>\n",
       "      <td>0</td>\n",
       "      <td>Yes</td>\n",
       "      <td>Private</td>\n",
       "      <td>Urban</td>\n",
       "      <td>171.23</td>\n",
       "      <td>34.400000</td>\n",
       "      <td>smokes</td>\n",
       "      <td>1</td>\n",
       "    </tr>\n",
       "    <tr>\n",
       "      <th>4</th>\n",
       "      <td>Female</td>\n",
       "      <td>79.0</td>\n",
       "      <td>1</td>\n",
       "      <td>0</td>\n",
       "      <td>Yes</td>\n",
       "      <td>Self-employed</td>\n",
       "      <td>Rural</td>\n",
       "      <td>174.12</td>\n",
       "      <td>24.000000</td>\n",
       "      <td>never smoked</td>\n",
       "      <td>1</td>\n",
       "    </tr>\n",
       "  </tbody>\n",
       "</table>\n",
       "</div>"
      ],
      "text/plain": [
       "   gender   age  hypertension  heart_disease ever_married      work_type  \\\n",
       "0    Male  67.0             0              1          Yes        Private   \n",
       "1  Female  61.0             0              0          Yes  Self-employed   \n",
       "2    Male  80.0             0              1          Yes        Private   \n",
       "3  Female  49.0             0              0          Yes        Private   \n",
       "4  Female  79.0             1              0          Yes  Self-employed   \n",
       "\n",
       "  Residence_type  avg_glucose_level        bmi   smoking_status  stroke  \n",
       "0          Urban             228.69  36.600000  formerly smoked       1  \n",
       "1          Rural             202.21  28.893237     never smoked       1  \n",
       "2          Rural             105.92  32.500000     never smoked       1  \n",
       "3          Urban             171.23  34.400000           smokes       1  \n",
       "4          Rural             174.12  24.000000     never smoked       1  "
      ]
     },
     "execution_count": 14,
     "metadata": {},
     "output_type": "execute_result"
    }
   ],
   "source": [
    "df2['bmi'].fillna(float(df2['bmi'].mean()), inplace=True)\n",
    "df2.head()"
   ]
  },
  {
   "cell_type": "code",
   "execution_count": 15,
   "id": "a54d4f67",
   "metadata": {
    "executionInfo": {
     "elapsed": 75,
     "status": "aborted",
     "timestamp": 1699598686391,
     "user": {
      "displayName": "pantech e learning",
      "userId": "02085171050783995221"
     },
     "user_tz": -330
    },
    "id": "a54d4f67"
   },
   "outputs": [
    {
     "data": {
      "text/plain": [
       "gender               0\n",
       "age                  0\n",
       "hypertension         0\n",
       "heart_disease        0\n",
       "ever_married         0\n",
       "work_type            0\n",
       "Residence_type       0\n",
       "avg_glucose_level    0\n",
       "bmi                  0\n",
       "smoking_status       0\n",
       "stroke               0\n",
       "dtype: int64"
      ]
     },
     "execution_count": 15,
     "metadata": {},
     "output_type": "execute_result"
    }
   ],
   "source": [
    "df2.isnull().sum()"
   ]
  },
  {
   "cell_type": "code",
   "execution_count": 16,
   "id": "d8de71c1",
   "metadata": {
    "executionInfo": {
     "elapsed": 76,
     "status": "aborted",
     "timestamp": 1699598686392,
     "user": {
      "displayName": "pantech e learning",
      "userId": "02085171050783995221"
     },
     "user_tz": -330
    },
    "id": "d8de71c1"
   },
   "outputs": [
    {
     "data": {
      "text/html": [
       "<div>\n",
       "<style scoped>\n",
       "    .dataframe tbody tr th:only-of-type {\n",
       "        vertical-align: middle;\n",
       "    }\n",
       "\n",
       "    .dataframe tbody tr th {\n",
       "        vertical-align: top;\n",
       "    }\n",
       "\n",
       "    .dataframe thead th {\n",
       "        text-align: right;\n",
       "    }\n",
       "</style>\n",
       "<table border=\"1\" class=\"dataframe\">\n",
       "  <thead>\n",
       "    <tr style=\"text-align: right;\">\n",
       "      <th></th>\n",
       "      <th>gender</th>\n",
       "      <th>age</th>\n",
       "      <th>hypertension</th>\n",
       "      <th>heart_disease</th>\n",
       "      <th>ever_married</th>\n",
       "      <th>work_type</th>\n",
       "      <th>Residence_type</th>\n",
       "      <th>avg_glucose_level</th>\n",
       "      <th>bmi</th>\n",
       "      <th>smoking_status</th>\n",
       "      <th>stroke</th>\n",
       "    </tr>\n",
       "  </thead>\n",
       "  <tbody>\n",
       "    <tr>\n",
       "      <th>0</th>\n",
       "      <td>Male</td>\n",
       "      <td>67.0</td>\n",
       "      <td>0</td>\n",
       "      <td>1</td>\n",
       "      <td>Yes</td>\n",
       "      <td>Private</td>\n",
       "      <td>Urban</td>\n",
       "      <td>228.69</td>\n",
       "      <td>36.600000</td>\n",
       "      <td>formerly smoked</td>\n",
       "      <td>1</td>\n",
       "    </tr>\n",
       "    <tr>\n",
       "      <th>1</th>\n",
       "      <td>Female</td>\n",
       "      <td>61.0</td>\n",
       "      <td>0</td>\n",
       "      <td>0</td>\n",
       "      <td>Yes</td>\n",
       "      <td>Self-employed</td>\n",
       "      <td>Rural</td>\n",
       "      <td>202.21</td>\n",
       "      <td>28.893237</td>\n",
       "      <td>never smoked</td>\n",
       "      <td>1</td>\n",
       "    </tr>\n",
       "    <tr>\n",
       "      <th>2</th>\n",
       "      <td>Male</td>\n",
       "      <td>80.0</td>\n",
       "      <td>0</td>\n",
       "      <td>1</td>\n",
       "      <td>Yes</td>\n",
       "      <td>Private</td>\n",
       "      <td>Rural</td>\n",
       "      <td>105.92</td>\n",
       "      <td>32.500000</td>\n",
       "      <td>never smoked</td>\n",
       "      <td>1</td>\n",
       "    </tr>\n",
       "    <tr>\n",
       "      <th>3</th>\n",
       "      <td>Female</td>\n",
       "      <td>49.0</td>\n",
       "      <td>0</td>\n",
       "      <td>0</td>\n",
       "      <td>Yes</td>\n",
       "      <td>Private</td>\n",
       "      <td>Urban</td>\n",
       "      <td>171.23</td>\n",
       "      <td>34.400000</td>\n",
       "      <td>smokes</td>\n",
       "      <td>1</td>\n",
       "    </tr>\n",
       "    <tr>\n",
       "      <th>4</th>\n",
       "      <td>Female</td>\n",
       "      <td>79.0</td>\n",
       "      <td>1</td>\n",
       "      <td>0</td>\n",
       "      <td>Yes</td>\n",
       "      <td>Self-employed</td>\n",
       "      <td>Rural</td>\n",
       "      <td>174.12</td>\n",
       "      <td>24.000000</td>\n",
       "      <td>never smoked</td>\n",
       "      <td>1</td>\n",
       "    </tr>\n",
       "  </tbody>\n",
       "</table>\n",
       "</div>"
      ],
      "text/plain": [
       "   gender   age  hypertension  heart_disease ever_married      work_type  \\\n",
       "0    Male  67.0             0              1          Yes        Private   \n",
       "1  Female  61.0             0              0          Yes  Self-employed   \n",
       "2    Male  80.0             0              1          Yes        Private   \n",
       "3  Female  49.0             0              0          Yes        Private   \n",
       "4  Female  79.0             1              0          Yes  Self-employed   \n",
       "\n",
       "  Residence_type  avg_glucose_level        bmi   smoking_status  stroke  \n",
       "0          Urban             228.69  36.600000  formerly smoked       1  \n",
       "1          Rural             202.21  28.893237     never smoked       1  \n",
       "2          Rural             105.92  32.500000     never smoked       1  \n",
       "3          Urban             171.23  34.400000           smokes       1  \n",
       "4          Rural             174.12  24.000000     never smoked       1  "
      ]
     },
     "execution_count": 16,
     "metadata": {},
     "output_type": "execute_result"
    }
   ],
   "source": [
    "df2.head()"
   ]
  },
  {
   "cell_type": "code",
   "execution_count": 17,
   "id": "95446f82",
   "metadata": {
    "executionInfo": {
     "elapsed": 75,
     "status": "aborted",
     "timestamp": 1699598686392,
     "user": {
      "displayName": "pantech e learning",
      "userId": "02085171050783995221"
     },
     "user_tz": -330
    },
    "id": "95446f82"
   },
   "outputs": [],
   "source": [
    "df3 = df2.copy()"
   ]
  },
  {
   "cell_type": "code",
   "execution_count": 18,
   "id": "4e2c195d",
   "metadata": {
    "executionInfo": {
     "elapsed": 76,
     "status": "aborted",
     "timestamp": 1699598686393,
     "user": {
      "displayName": "pantech e learning",
      "userId": "02085171050783995221"
     },
     "user_tz": -330
    },
    "id": "4e2c195d"
   },
   "outputs": [
    {
     "data": {
      "text/plain": [
       "stroke\n",
       "0    4861\n",
       "1     249\n",
       "Name: count, dtype: int64"
      ]
     },
     "execution_count": 18,
     "metadata": {},
     "output_type": "execute_result"
    }
   ],
   "source": [
    "df3['stroke'].value_counts()"
   ]
  },
  {
   "cell_type": "code",
   "execution_count": 19,
   "id": "f8618ed2",
   "metadata": {
    "executionInfo": {
     "elapsed": 76,
     "status": "aborted",
     "timestamp": 1699598686393,
     "user": {
      "displayName": "pantech e learning",
      "userId": "02085171050783995221"
     },
     "user_tz": -330
    },
    "id": "f8618ed2"
   },
   "outputs": [
    {
     "data": {
      "image/png": "[encoded data removed]",
      "text/plain": [
       "<Figure size 640x480 with 1 Axes>"
      ]
     },
     "metadata": {},
     "output_type": "display_data"
    }
   ],
   "source": [
    "sns.countplot(x=df3['stroke'])\n",
    "plt.title('No of Patiesnts affected by stroke',fontsize=15)\n",
    "plt.show()"
   ]
  },
  {
   "cell_type": "code",
   "execution_count": 20,
   "id": "2cbba4b2",
   "metadata": {
    "executionInfo": {
     "elapsed": 77,
     "status": "aborted",
     "timestamp": 1699598686395,
     "user": {
      "displayName": "pantech e learning",
      "userId": "02085171050783995221"
     },
     "user_tz": -330
    },
    "id": "2cbba4b2"
   },
   "outputs": [
    {
     "data": {
      "text/plain": [
       "gender  stroke\n",
       "Female  0         2853\n",
       "        1          141\n",
       "Male    0         2007\n",
       "        1          108\n",
       "Other   0            1\n",
       "Name: count, dtype: int64"
      ]
     },
     "execution_count": 20,
     "metadata": {},
     "output_type": "execute_result"
    }
   ],
   "source": [
    "df3.groupby(['gender'])['stroke'].value_counts()"
   ]
  },
  {
   "cell_type": "code",
   "execution_count": 21,
   "id": "260852bc",
   "metadata": {
    "executionInfo": {
     "elapsed": 77,
     "status": "aborted",
     "timestamp": 1699598686395,
     "user": {
      "displayName": "pantech e learning",
      "userId": "02085171050783995221"
     },
     "user_tz": -330
    },
    "id": "260852bc"
   },
   "outputs": [
    {
     "data": {
      "image/png": "[encoded data removed]",
      "text/plain": [
       "<Figure size 640x480 with 1 Axes>"
      ]
     },
     "metadata": {},
     "output_type": "display_data"
    }
   ],
   "source": [
    "sns.countplot(x=df3['gender'],hue=df3['stroke'])\n",
    "plt.show()"
   ]
  },
  {
   "cell_type": "code",
   "execution_count": 22,
   "id": "04711156",
   "metadata": {
    "executionInfo": {
     "elapsed": 78,
     "status": "aborted",
     "timestamp": 1699598686396,
     "user": {
      "displayName": "pantech e learning",
      "userId": "02085171050783995221"
     },
     "user_tz": -330
    },
    "id": "04711156"
   },
   "outputs": [
    {
     "data": {
      "text/plain": [
       "hypertension  stroke\n",
       "0             0         4429\n",
       "              1          183\n",
       "1             0          432\n",
       "              1           66\n",
       "Name: count, dtype: int64"
      ]
     },
     "execution_count": 22,
     "metadata": {},
     "output_type": "execute_result"
    }
   ],
   "source": [
    "df3.groupby(['hypertension'])['stroke'].value_counts()"
   ]
  },
  {
   "cell_type": "code",
   "execution_count": 23,
   "id": "57759896",
   "metadata": {
    "executionInfo": {
     "elapsed": 78,
     "status": "aborted",
     "timestamp": 1699598686397,
     "user": {
      "displayName": "pantech e learning",
      "userId": "02085171050783995221"
     },
     "user_tz": -330
    },
    "id": "57759896"
   },
   "outputs": [
    {
     "data": {
      "image/png": "[encoded data removed]",
      "text/plain": [
       "<Figure size 640x480 with 1 Axes>"
      ]
     },
     "metadata": {},
     "output_type": "display_data"
    }
   ],
   "source": [
    "sns.countplot(x=df3['hypertension'],hue=df3['stroke'])\n",
    "plt.show()"
   ]
  },
  {
   "cell_type": "code",
   "execution_count": 24,
   "id": "e523fe3d",
   "metadata": {
    "executionInfo": {
     "elapsed": 79,
     "status": "aborted",
     "timestamp": 1699598686398,
     "user": {
      "displayName": "pantech e learning",
      "userId": "02085171050783995221"
     },
     "user_tz": -330
    },
    "id": "e523fe3d"
   },
   "outputs": [
    {
     "data": {
      "text/plain": [
       "heart_disease  stroke\n",
       "0              0         4632\n",
       "               1          202\n",
       "1              0          229\n",
       "               1           47\n",
       "Name: count, dtype: int64"
      ]
     },
     "execution_count": 24,
     "metadata": {},
     "output_type": "execute_result"
    }
   ],
   "source": [
    "df3.groupby(['heart_disease'])['stroke'].value_counts()"
   ]
  },
  {
   "cell_type": "code",
   "execution_count": 25,
   "id": "31574762",
   "metadata": {
    "executionInfo": {
     "elapsed": 79,
     "status": "aborted",
     "timestamp": 1699598686398,
     "user": {
      "displayName": "pantech e learning",
      "userId": "02085171050783995221"
     },
     "user_tz": -330
    },
    "id": "31574762"
   },
   "outputs": [
    {
     "data": {
      "image/png": "[encoded data removed]",
      "text/plain": [
       "<Figure size 640x480 with 1 Axes>"
      ]
     },
     "metadata": {},
     "output_type": "display_data"
    }
   ],
   "source": [
    "sns.countplot(x=df3['heart_disease'],hue=df3['stroke'])\n",
    "plt.show()"
   ]
  },
  {
   "cell_type": "code",
   "execution_count": 26,
   "id": "d3622a2e",
   "metadata": {
    "executionInfo": {
     "elapsed": 80,
     "status": "aborted",
     "timestamp": 1699598686399,
     "user": {
      "displayName": "pantech e learning",
      "userId": "02085171050783995221"
     },
     "user_tz": -330
    },
    "id": "d3622a2e"
   },
   "outputs": [
    {
     "data": {
      "text/plain": [
       "ever_married  stroke\n",
       "No            0         1728\n",
       "              1           29\n",
       "Yes           0         3133\n",
       "              1          220\n",
       "Name: count, dtype: int64"
      ]
     },
     "execution_count": 26,
     "metadata": {},
     "output_type": "execute_result"
    }
   ],
   "source": [
    "df3.groupby(['ever_married'])['stroke'].value_counts()"
   ]
  },
  {
   "cell_type": "code",
   "execution_count": 27,
   "id": "1960c885",
   "metadata": {
    "executionInfo": {
     "elapsed": 80,
     "status": "aborted",
     "timestamp": 1699598686400,
     "user": {
      "displayName": "pantech e learning",
      "userId": "02085171050783995221"
     },
     "user_tz": -330
    },
    "id": "1960c885"
   },
   "outputs": [
    {
     "data": {
      "image/png": "[encoded data removed]",
      "text/plain": [
       "<Figure size 640x480 with 1 Axes>"
      ]
     },
     "metadata": {},
     "output_type": "display_data"
    }
   ],
   "source": [
    "sns.countplot(x=df3['ever_married'],hue=df3['stroke'])\n",
    "plt.show()"
   ]
  },
  {
   "cell_type": "code",
   "execution_count": 28,
   "id": "0b63b71b",
   "metadata": {
    "executionInfo": {
     "elapsed": 80,
     "status": "aborted",
     "timestamp": 1699598686400,
     "user": {
      "displayName": "pantech e learning",
      "userId": "02085171050783995221"
     },
     "user_tz": -330
    },
    "id": "0b63b71b"
   },
   "outputs": [
    {
     "data": {
      "text/plain": [
       "work_type      stroke\n",
       "Govt_job       0          624\n",
       "               1           33\n",
       "Never_worked   0           22\n",
       "Private        0         2776\n",
       "               1          149\n",
       "Self-employed  0          754\n",
       "               1           65\n",
       "children       0          685\n",
       "               1            2\n",
       "Name: count, dtype: int64"
      ]
     },
     "execution_count": 28,
     "metadata": {},
     "output_type": "execute_result"
    }
   ],
   "source": [
    "df3.groupby(['work_type'])['stroke'].value_counts()"
   ]
  },
  {
   "cell_type": "code",
   "execution_count": 29,
   "id": "ca6ef660",
   "metadata": {
    "executionInfo": {
     "elapsed": 81,
     "status": "aborted",
     "timestamp": 1699598686401,
     "user": {
      "displayName": "pantech e learning",
      "userId": "02085171050783995221"
     },
     "user_tz": -330
    },
    "id": "ca6ef660"
   },
   "outputs": [
    {
     "data": {
      "image/png": "[encoded data removed]",
      "text/plain": [
       "<Figure size 640x480 with 1 Axes>"
      ]
     },
     "metadata": {},
     "output_type": "display_data"
    }
   ],
   "source": [
    "sns.countplot(x=df3['work_type'],hue=df3['stroke'])\n",
    "plt.show()"
   ]
  },
  {
   "cell_type": "code",
   "execution_count": 30,
   "id": "025d32e1",
   "metadata": {
    "executionInfo": {
     "elapsed": 82,
     "status": "aborted",
     "timestamp": 1699598686402,
     "user": {
      "displayName": "pantech e learning",
      "userId": "02085171050783995221"
     },
     "user_tz": -330
    },
    "id": "025d32e1"
   },
   "outputs": [
    {
     "data": {
      "text/plain": [
       "Residence_type  stroke\n",
       "Rural           0         2400\n",
       "                1          114\n",
       "Urban           0         2461\n",
       "                1          135\n",
       "Name: count, dtype: int64"
      ]
     },
     "execution_count": 30,
     "metadata": {},
     "output_type": "execute_result"
    }
   ],
   "source": [
    "df3.groupby(['Residence_type'])['stroke'].value_counts()"
   ]
  },
  {
   "cell_type": "code",
   "execution_count": 31,
   "id": "6989a8fc",
   "metadata": {
    "executionInfo": {
     "elapsed": 82,
     "status": "aborted",
     "timestamp": 1699598686403,
     "user": {
      "displayName": "pantech e learning",
      "userId": "02085171050783995221"
     },
     "user_tz": -330
    },
    "id": "6989a8fc"
   },
   "outputs": [
    {
     "data": {
      "image/png": "[encoded data removed]",
      "text/plain": [
       "<Figure size 640x480 with 1 Axes>"
      ]
     },
     "metadata": {},
     "output_type": "display_data"
    }
   ],
   "source": [
    "sns.countplot(x=df3['Residence_type'],hue=df3['stroke'])\n",
    "plt.show()"
   ]
  },
  {
   "cell_type": "code",
   "execution_count": 32,
   "id": "5a4cff96",
   "metadata": {
    "executionInfo": {
     "elapsed": 82,
     "status": "aborted",
     "timestamp": 1699598686403,
     "user": {
      "displayName": "pantech e learning",
      "userId": "02085171050783995221"
     },
     "user_tz": -330
    },
    "id": "5a4cff96"
   },
   "outputs": [
    {
     "data": {
      "text/plain": [
       "smoking_status   stroke\n",
       "Unknown          0         1497\n",
       "                 1           47\n",
       "formerly smoked  0          815\n",
       "                 1           70\n",
       "never smoked     0         1802\n",
       "                 1           90\n",
       "smokes           0          747\n",
       "                 1           42\n",
       "Name: count, dtype: int64"
      ]
     },
     "execution_count": 32,
     "metadata": {},
     "output_type": "execute_result"
    }
   ],
   "source": [
    "df3.groupby(['smoking_status'])['stroke'].value_counts()"
   ]
  },
  {
   "cell_type": "code",
   "execution_count": 33,
   "id": "8ad7d0a4",
   "metadata": {
    "executionInfo": {
     "elapsed": 83,
     "status": "aborted",
     "timestamp": 1699598686404,
     "user": {
      "displayName": "pantech e learning",
      "userId": "02085171050783995221"
     },
     "user_tz": -330
    },
    "id": "8ad7d0a4"
   },
   "outputs": [
    {
     "data": {
      "image/png": "[encoded data removed]",
      "text/plain": [
       "<Figure size 640x480 with 1 Axes>"
      ]
     },
     "metadata": {},
     "output_type": "display_data"
    }
   ],
   "source": [
    "sns.countplot(x=df3['smoking_status'],hue=df3['stroke'])\n",
    "plt.show()"
   ]
  },
  {
   "cell_type": "code",
   "execution_count": 34,
   "id": "9784b486",
   "metadata": {
    "executionInfo": {
     "elapsed": 83,
     "status": "aborted",
     "timestamp": 1699598686404,
     "user": {
      "displayName": "pantech e learning",
      "userId": "02085171050783995221"
     },
     "user_tz": -330
    },
    "id": "9784b486"
   },
   "outputs": [
    {
     "data": {
      "image/png": "[encoded data removed]",
      "text/plain": [
       "<Figure size 1400x2000 with 8 Axes>"
      ]
     },
     "metadata": {},
     "output_type": "display_data"
    }
   ],
   "source": [
    "import seaborn as sns\n",
    "cate_var = ['gender','hypertension','heart_disease','ever_married','work_type','Residence_type','smoking_status', 'stroke']\n",
    "\n",
    "fig, axs = plt.subplots(4, 2, figsize=(14,20))\n",
    "axs = axs.flatten()\n",
    "\n",
    "# iterate through each column of df_catd and plot\n",
    "for i, col_name in enumerate(cate_var):\n",
    "    sns.countplot(x=col_name, data=df3, ax=axs[i], hue =df3['stroke'], palette = 'colorblind')\n",
    "    plt.title(\"Bar chart of\")\n",
    "    axs[i].set_xlabel(f\"{col_name}\", weight = 'bold')\n",
    "    axs[i].set_ylabel('Count', weight='bold')"
   ]
  },
  {
   "cell_type": "code",
   "execution_count": 35,
   "id": "5ef2f030",
   "metadata": {
    "executionInfo": {
     "elapsed": 83,
     "status": "aborted",
     "timestamp": 1699598686405,
     "user": {
      "displayName": "pantech e learning",
      "userId": "02085171050783995221"
     },
     "user_tz": -330
    },
    "id": "5ef2f030"
   },
   "outputs": [
    {
     "data": {
      "image/png": "[encoded data removed]",
      "text/plain": [
       "<Figure size 1600x500 with 3 Axes>"
      ]
     },
     "metadata": {},
     "output_type": "display_data"
    }
   ],
   "source": [
    "num_var = ['age', 'avg_glucose_level', 'bmi']\n",
    "\n",
    "fig, axs = plt.subplots(1, 3, figsize=(16,5))\n",
    "axs = axs.flatten()\n",
    "\n",
    "# iterate through each column in df_num and plot\n",
    "for i, col_name in enumerate(num_var):\n",
    "    sns.boxplot(x=\"stroke\", y=col_name, data=df3, ax=axs[i],  palette = 'Set1')\n",
    "    axs[i].set_xlabel(\"Stroke\", weight = 'bold')\n",
    "    axs[i].set_ylabel(f\"{col_name}\", weight='bold')"
   ]
  },
  {
   "cell_type": "markdown",
   "id": "51f7c26e",
   "metadata": {
    "id": "51f7c26e"
   },
   "source": [
    "From the above boxplot, some observations can be drawn:\n",
    "age subjects with stroke tends to have higher mean age.\n",
    "avg glucose level subjects with stroke tends to have higher average glucose level.\n",
    "bmi index does not give much indication on the likelihood of experiencing stroke.\n",
    "bmi index for super obesity is 50.\n",
    "Outliers in this feature should be replaced to its highest limit (50)."
   ]
  },
  {
   "cell_type": "code",
   "execution_count": 36,
   "id": "0ebbef5f",
   "metadata": {
    "executionInfo": {
     "elapsed": 84,
     "status": "aborted",
     "timestamp": 1699598686406,
     "user": {
      "displayName": "pantech e learning",
      "userId": "02085171050783995221"
     },
     "user_tz": -330
    },
    "id": "0ebbef5f"
   },
   "outputs": [
    {
     "data": {
      "text/plain": [
       "(79,)"
      ]
     },
     "execution_count": 36,
     "metadata": {},
     "output_type": "execute_result"
    }
   ],
   "source": [
    "bmi_outliers=df3.loc[df3['bmi']>50]\n",
    "bmi_outliers['bmi'].shape"
   ]
  },
  {
   "cell_type": "code",
   "execution_count": 37,
   "id": "259e59a8",
   "metadata": {
    "executionInfo": {
     "elapsed": 85,
     "status": "aborted",
     "timestamp": 1699598686407,
     "user": {
      "displayName": "pantech e learning",
      "userId": "02085171050783995221"
     },
     "user_tz": -330
    },
    "id": "259e59a8"
   },
   "outputs": [],
   "source": [
    "df4 = df3.copy()"
   ]
  },
  {
   "cell_type": "code",
   "execution_count": 38,
   "id": "140a54b3",
   "metadata": {
    "executionInfo": {
     "elapsed": 84,
     "status": "aborted",
     "timestamp": 1699598686407,
     "user": {
      "displayName": "pantech e learning",
      "userId": "02085171050783995221"
     },
     "user_tz": -330
    },
    "id": "140a54b3"
   },
   "outputs": [
    {
     "data": {
      "image/png": "[encoded data removed]",
      "text/plain": [
       "<Figure size 640x480 with 1 Axes>"
      ]
     },
     "metadata": {},
     "output_type": "display_data"
    }
   ],
   "source": [
    "sns.boxplot(data=df4,x=df4[\"bmi\"],color='red')\n",
    "plt.title(\"Boxplot of BMI Distribution\");"
   ]
  },
  {
   "cell_type": "code",
   "execution_count": 39,
   "id": "016244e1",
   "metadata": {
    "executionInfo": {
     "elapsed": 83,
     "status": "aborted",
     "timestamp": 1699598686407,
     "user": {
      "displayName": "pantech e learning",
      "userId": "02085171050783995221"
     },
     "user_tz": -330
    },
    "id": "016244e1"
   },
   "outputs": [],
   "source": [
    "df4[\"bmi\"] = pd.to_numeric(df4[\"bmi\"])\n",
    "df4[\"bmi\"] = df4[\"bmi\"].apply(lambda x: 50 if x>50 else x)"
   ]
  },
  {
   "cell_type": "code",
   "execution_count": 40,
   "id": "200d2399",
   "metadata": {
    "executionInfo": {
     "elapsed": 83,
     "status": "aborted",
     "timestamp": 1699598686407,
     "user": {
      "displayName": "pantech e learning",
      "userId": "02085171050783995221"
     },
     "user_tz": -330
    },
    "id": "200d2399"
   },
   "outputs": [
    {
     "data": {
      "image/png": "[encoded data removed]",
      "text/plain": [
       "<Figure size 640x480 with 1 Axes>"
      ]
     },
     "metadata": {},
     "output_type": "display_data"
    }
   ],
   "source": [
    "sns.boxplot(data=df4,x=df4[\"bmi\"],color='red')\n",
    "plt.title(\"Boxplot of BMI Distribution\");"
   ]
  },
  {
   "cell_type": "code",
   "execution_count": 41,
   "id": "c224755e",
   "metadata": {
    "executionInfo": {
     "elapsed": 83,
     "status": "aborted",
     "timestamp": 1699598686407,
     "user": {
      "displayName": "pantech e learning",
      "userId": "02085171050783995221"
     },
     "user_tz": -330
    },
    "id": "c224755e"
   },
   "outputs": [],
   "source": [
    "df1['bmi'].fillna(df1['bmi'].mean(),inplace=True) #Filling the missing values of BMI with the mean values"
   ]
  },
  {
   "cell_type": "code",
   "execution_count": 42,
   "id": "9562cc12",
   "metadata": {
    "executionInfo": {
     "elapsed": 83,
     "status": "aborted",
     "timestamp": 1699598686408,
     "user": {
      "displayName": "pantech e learning",
      "userId": "02085171050783995221"
     },
     "user_tz": -330
    },
    "id": "9562cc12"
   },
   "outputs": [
    {
     "data": {
      "text/html": [
       "<div>\n",
       "<style scoped>\n",
       "    .dataframe tbody tr th:only-of-type {\n",
       "        vertical-align: middle;\n",
       "    }\n",
       "\n",
       "    .dataframe tbody tr th {\n",
       "        vertical-align: top;\n",
       "    }\n",
       "\n",
       "    .dataframe thead th {\n",
       "        text-align: right;\n",
       "    }\n",
       "</style>\n",
       "<table border=\"1\" class=\"dataframe\">\n",
       "  <thead>\n",
       "    <tr style=\"text-align: right;\">\n",
       "      <th></th>\n",
       "      <th>id</th>\n",
       "      <th>gender</th>\n",
       "      <th>age</th>\n",
       "      <th>hypertension</th>\n",
       "      <th>heart_disease</th>\n",
       "      <th>ever_married</th>\n",
       "      <th>work_type</th>\n",
       "      <th>Residence_type</th>\n",
       "      <th>avg_glucose_level</th>\n",
       "      <th>bmi</th>\n",
       "      <th>smoking_status</th>\n",
       "      <th>stroke</th>\n",
       "    </tr>\n",
       "  </thead>\n",
       "  <tbody>\n",
       "    <tr>\n",
       "      <th>0</th>\n",
       "      <td>9046</td>\n",
       "      <td>Male</td>\n",
       "      <td>67.0</td>\n",
       "      <td>0</td>\n",
       "      <td>1</td>\n",
       "      <td>Yes</td>\n",
       "      <td>Private</td>\n",
       "      <td>Urban</td>\n",
       "      <td>228.69</td>\n",
       "      <td>36.600000</td>\n",
       "      <td>formerly smoked</td>\n",
       "      <td>1</td>\n",
       "    </tr>\n",
       "    <tr>\n",
       "      <th>1</th>\n",
       "      <td>51676</td>\n",
       "      <td>Female</td>\n",
       "      <td>61.0</td>\n",
       "      <td>0</td>\n",
       "      <td>0</td>\n",
       "      <td>Yes</td>\n",
       "      <td>Self-employed</td>\n",
       "      <td>Rural</td>\n",
       "      <td>202.21</td>\n",
       "      <td>28.893237</td>\n",
       "      <td>never smoked</td>\n",
       "      <td>1</td>\n",
       "    </tr>\n",
       "  </tbody>\n",
       "</table>\n",
       "</div>"
      ],
      "text/plain": [
       "      id  gender   age  hypertension  heart_disease ever_married  \\\n",
       "0   9046    Male  67.0             0              1          Yes   \n",
       "1  51676  Female  61.0             0              0          Yes   \n",
       "\n",
       "       work_type Residence_type  avg_glucose_level        bmi  \\\n",
       "0        Private          Urban             228.69  36.600000   \n",
       "1  Self-employed          Rural             202.21  28.893237   \n",
       "\n",
       "    smoking_status  stroke  \n",
       "0  formerly smoked       1  \n",
       "1     never smoked       1  "
      ]
     },
     "execution_count": 42,
     "metadata": {},
     "output_type": "execute_result"
    }
   ],
   "source": [
    "df1.head(2)"
   ]
  },
  {
   "cell_type": "code",
   "execution_count": 43,
   "id": "cfef52b4",
   "metadata": {
    "executionInfo": {
     "elapsed": 83,
     "status": "aborted",
     "timestamp": 1699598686408,
     "user": {
      "displayName": "pantech e learning",
      "userId": "02085171050783995221"
     },
     "user_tz": -330
    },
    "id": "cfef52b4"
   },
   "outputs": [],
   "source": [
    "from sklearn.preprocessing import LabelEncoder\n",
    "# instantiate labelencoder object\n",
    "labelEncoder = LabelEncoder()\n",
    "df1['gender'] = labelEncoder.fit_transform(df1['gender'])\n",
    "df1['ever_married'] = labelEncoder.fit_transform(df1['ever_married'])\n",
    "df1['work_type'] = labelEncoder.fit_transform(df1['work_type'])\n",
    "df1['Residence_type'] = labelEncoder.fit_transform(df1['Residence_type'])"
   ]
  },
  {
   "cell_type": "code",
   "execution_count": 44,
   "id": "9cd50d65",
   "metadata": {
    "executionInfo": {
     "elapsed": 85,
     "status": "aborted",
     "timestamp": 1699598686410,
     "user": {
      "displayName": "pantech e learning",
      "userId": "02085171050783995221"
     },
     "user_tz": -330
    },
    "id": "9cd50d65"
   },
   "outputs": [
    {
     "data": {
      "text/plain": [
       "id                   0\n",
       "gender               0\n",
       "age                  0\n",
       "hypertension         0\n",
       "heart_disease        0\n",
       "ever_married         0\n",
       "work_type            0\n",
       "Residence_type       0\n",
       "avg_glucose_level    0\n",
       "bmi                  0\n",
       "smoking_status       0\n",
       "stroke               0\n",
       "dtype: int64"
      ]
     },
     "execution_count": 44,
     "metadata": {},
     "output_type": "execute_result"
    }
   ],
   "source": [
    "df1.isnull().sum()"
   ]
  },
  {
   "cell_type": "code",
   "execution_count": 45,
   "id": "9bf6a729",
   "metadata": {
    "executionInfo": {
     "elapsed": 85,
     "status": "aborted",
     "timestamp": 1699598686410,
     "user": {
      "displayName": "pantech e learning",
      "userId": "02085171050783995221"
     },
     "user_tz": -330
    },
    "id": "9bf6a729"
   },
   "outputs": [
    {
     "name": "stdout",
     "output_type": "stream",
     "text": [
      "smoking_status\n",
      "never smoked       1892\n",
      "Unknown            1544\n",
      "formerly smoked     885\n",
      "smokes              789\n",
      "Name: count, dtype: int64\n",
      "Series([], Name: count, dtype: int64)\n"
     ]
    }
   ],
   "source": [
    "print(df1.smoking_status.value_counts())\n",
    "print(df1[df1.smoking_status.isnull()]['stroke'].value_counts())"
   ]
  },
  {
   "cell_type": "code",
   "execution_count": 46,
   "id": "10daf2fe",
   "metadata": {
    "executionInfo": {
     "elapsed": 84,
     "status": "aborted",
     "timestamp": 1699598686410,
     "user": {
      "displayName": "pantech e learning",
      "userId": "02085171050783995221"
     },
     "user_tz": -330
    },
    "id": "10daf2fe"
   },
   "outputs": [],
   "source": [
    "df1.drop('smoking_status',axis = 1, inplace = True)"
   ]
  },
  {
   "cell_type": "code",
   "execution_count": 47,
   "id": "dd14bdb5",
   "metadata": {
    "colab": {
     "base_uri": "https://localhost:8080/",
     "height": 181
    },
    "executionInfo": {
     "elapsed": 84,
     "status": "error",
     "timestamp": 1699598686410,
     "user": {
      "displayName": "pantech e learning",
      "userId": "02085171050783995221"
     },
     "user_tz": -330
    },
    "id": "dd14bdb5",
    "outputId": "a9f2b891-f97a-4a81-ed4c-30a1cd366180"
   },
   "outputs": [],
   "source": [
    "df1.drop('id',axis = 1, inplace = True)"
   ]
  },
  {
   "cell_type": "code",
   "execution_count": 48,
   "id": "e7bf6970",
   "metadata": {
    "executionInfo": {
     "elapsed": 81,
     "status": "aborted",
     "timestamp": 1699598686410,
     "user": {
      "displayName": "pantech e learning",
      "userId": "02085171050783995221"
     },
     "user_tz": -330
    },
    "id": "e7bf6970"
   },
   "outputs": [],
   "source": [
    "df1 = df1.sample(frac=1,random_state=4)\n",
    "df_Isstroke = df1.loc[df1['stroke'] == 1]\n",
    "df_Nostroke = df1.loc[df1['stroke'] == 0].sample(n= 4500,random_state= 101)"
   ]
  },
  {
   "cell_type": "code",
   "execution_count": 49,
   "id": "cafc44ac",
   "metadata": {
    "executionInfo": {
     "elapsed": 82,
     "status": "aborted",
     "timestamp": 1699598686411,
     "user": {
      "displayName": "pantech e learning",
      "userId": "02085171050783995221"
     },
     "user_tz": -330
    },
    "id": "cafc44ac"
   },
   "outputs": [],
   "source": [
    "df_data_stroke = pd.concat([df_Isstroke,df_Nostroke])"
   ]
  },
  {
   "cell_type": "code",
   "execution_count": 50,
   "id": "b04a5e3c",
   "metadata": {
    "executionInfo": {
     "elapsed": 81,
     "status": "aborted",
     "timestamp": 1699598686411,
     "user": {
      "displayName": "pantech e learning",
      "userId": "02085171050783995221"
     },
     "user_tz": -330
    },
    "id": "b04a5e3c"
   },
   "outputs": [
    {
     "data": {
      "text/plain": [
       "stroke\n",
       "0    4500\n",
       "1     249\n",
       "Name: count, dtype: int64"
      ]
     },
     "execution_count": 50,
     "metadata": {},
     "output_type": "execute_result"
    }
   ],
   "source": [
    "df_data_stroke.stroke.value_counts()"
   ]
  },
  {
   "cell_type": "code",
   "execution_count": 51,
   "id": "900fc344",
   "metadata": {
    "executionInfo": {
     "elapsed": 81,
     "status": "aborted",
     "timestamp": 1699598686411,
     "user": {
      "displayName": "pantech e learning",
      "userId": "02085171050783995221"
     },
     "user_tz": -330
    },
    "id": "900fc344"
   },
   "outputs": [],
   "source": [
    "from sklearn.model_selection import train_test_split\n",
    "from sklearn.utils import shuffle\n",
    "df_data_stroke = shuffle(df_data_stroke)\n",
    "X = df_data_stroke.drop('stroke', axis = 1)\n",
    "y = df_data_stroke['stroke']"
   ]
  },
  {
   "cell_type": "code",
   "execution_count": 52,
   "id": "91a1738a",
   "metadata": {
    "executionInfo": {
     "elapsed": 81,
     "status": "aborted",
     "timestamp": 1699598686411,
     "user": {
      "displayName": "pantech e learning",
      "userId": "02085171050783995221"
     },
     "user_tz": -330
    },
    "id": "91a1738a"
   },
   "outputs": [],
   "source": [
    "X_train, X_test, y_train, y_test = train_test_split(X,y,test_size=0.2,random_state=101)"
   ]
  },
  {
   "cell_type": "code",
   "execution_count": 53,
   "id": "a5fa6f34",
   "metadata": {
    "executionInfo": {
     "elapsed": 81,
     "status": "aborted",
     "timestamp": 1699598686411,
     "user": {
      "displayName": "pantech e learning",
      "userId": "02085171050783995221"
     },
     "user_tz": -330
    },
    "id": "a5fa6f34"
   },
   "outputs": [
    {
     "data": {
      "text/plain": [
       "0.9452631578947368"
      ]
     },
     "execution_count": 53,
     "metadata": {},
     "output_type": "execute_result"
    }
   ],
   "source": [
    "model_1 = LogisticRegression(solver='liblinear')\n",
    "model_1.fit(X_train, y_train)\n",
    "lra=model_1.score(X_test, y_test)\n",
    "lra"
   ]
  },
  {
   "cell_type": "code",
   "execution_count": 54,
   "id": "c3a62ef0",
   "metadata": {
    "executionInfo": {
     "elapsed": 80,
     "status": "aborted",
     "timestamp": 1699598686411,
     "user": {
      "displayName": "pantech e learning",
      "userId": "02085171050783995221"
     },
     "user_tz": -330
    },
    "id": "c3a62ef0"
   },
   "outputs": [],
   "source": [
    "lr_pred = model_1.predict(X_test)"
   ]
  },
  {
   "cell_type": "code",
   "execution_count": 55,
   "id": "54e4630a",
   "metadata": {
    "executionInfo": {
     "elapsed": 81,
     "status": "aborted",
     "timestamp": 1699598686412,
     "user": {
      "displayName": "pantech e learning",
      "userId": "02085171050783995221"
     },
     "user_tz": -330
    },
    "id": "54e4630a"
   },
   "outputs": [
    {
     "data": {
      "text/plain": [
       "1.0"
      ]
     },
     "execution_count": 55,
     "metadata": {},
     "output_type": "execute_result"
    }
   ],
   "source": [
    "model_2 = tree.DecisionTreeClassifier(criterion='entropy')\n",
    "model_2.fit(X_train, y_train)\n",
    "dtc=model_2.score(X_train, y_train)\n",
    "dtc"
   ]
  },
  {
   "cell_type": "code",
   "execution_count": 56,
   "id": "0bb6b244",
   "metadata": {
    "executionInfo": {
     "elapsed": 80,
     "status": "aborted",
     "timestamp": 1699598686412,
     "user": {
      "displayName": "pantech e learning",
      "userId": "02085171050783995221"
     },
     "user_tz": -330
    },
    "id": "0bb6b244"
   },
   "outputs": [],
   "source": [
    "dt_pred = model_2.predict(X_test)"
   ]
  },
  {
   "cell_type": "code",
   "execution_count": 57,
   "id": "fef02eec",
   "metadata": {
    "executionInfo": {
     "elapsed": 80,
     "status": "aborted",
     "timestamp": 1699598686412,
     "user": {
      "displayName": "pantech e learning",
      "userId": "02085171050783995221"
     },
     "user_tz": -330
    },
    "id": "fef02eec"
   },
   "outputs": [
    {
     "data": {
      "text/plain": [
       "0.9442105263157895"
      ]
     },
     "execution_count": 57,
     "metadata": {},
     "output_type": "execute_result"
    }
   ],
   "source": [
    "model_3 = RandomForestClassifier(n_estimators=30)\n",
    "model_3.fit(X_train, y_train)\n",
    "rfc=model_3.score(X_test, y_test)\n",
    "rfc"
   ]
  },
  {
   "cell_type": "code",
   "execution_count": 58,
   "id": "3da38d5d",
   "metadata": {
    "executionInfo": {
     "elapsed": 80,
     "status": "aborted",
     "timestamp": 1699598686412,
     "user": {
      "displayName": "pantech e learning",
      "userId": "02085171050783995221"
     },
     "user_tz": -330
    },
    "id": "3da38d5d"
   },
   "outputs": [],
   "source": [
    "rf_pred =model_3.predict(X_test)"
   ]
  },
  {
   "cell_type": "code",
   "execution_count": 59,
   "id": "5f9fb541",
   "metadata": {
    "executionInfo": {
     "elapsed": 80,
     "status": "aborted",
     "timestamp": 1699598686412,
     "user": {
      "displayName": "pantech e learning",
      "userId": "02085171050783995221"
     },
     "user_tz": -330
    },
    "id": "5f9fb541"
   },
   "outputs": [
    {
     "data": {
      "text/plain": [
       "0.9452631578947368"
      ]
     },
     "execution_count": 59,
     "metadata": {},
     "output_type": "execute_result"
    }
   ],
   "source": [
    "model_4 = SVC()\n",
    "model_4.fit(X_train, y_train)\n",
    "svc=model_4.score(X_test, y_test)\n",
    "svc"
   ]
  },
  {
   "cell_type": "code",
   "execution_count": 60,
   "id": "b37648e3",
   "metadata": {
    "executionInfo": {
     "elapsed": 80,
     "status": "aborted",
     "timestamp": 1699598686412,
     "user": {
      "displayName": "pantech e learning",
      "userId": "02085171050783995221"
     },
     "user_tz": -330
    },
    "id": "b37648e3"
   },
   "outputs": [],
   "source": [
    "svc_pred = model_4.predict(X_test)"
   ]
  },
  {
   "cell_type": "code",
   "execution_count": 61,
   "id": "6943704d",
   "metadata": {
    "executionInfo": {
     "elapsed": 80,
     "status": "aborted",
     "timestamp": 1699598686412,
     "user": {
      "displayName": "pantech e learning",
      "userId": "02085171050783995221"
     },
     "user_tz": -330
    },
    "id": "6943704d"
   },
   "outputs": [
    {
     "data": {
      "text/html": [
       "<style type=\"text/css\">\n",
       "#T_f84cb_row0_col1, #T_f84cb_row3_col1 {\n",
       "  background-color: #feffd6;\n",
       "  color: #000000;\n",
       "}\n",
       "#T_f84cb_row1_col1 {\n",
       "  background-color: #40b5c4;\n",
       "  color: #f1f1f1;\n",
       "}\n",
       "#T_f84cb_row2_col1 {\n",
       "  background-color: #ffffd9;\n",
       "  color: #000000;\n",
       "}\n",
       "</style>\n",
       "<table id=\"T_f84cb\">\n",
       "  <thead>\n",
       "    <tr>\n",
       "      <th class=\"blank level0\" >&nbsp;</th>\n",
       "      <th id=\"T_f84cb_level0_col0\" class=\"col_heading level0 col0\" >Algorithms</th>\n",
       "      <th id=\"T_f84cb_level0_col1\" class=\"col_heading level0 col1\" >Accuracy_Score</th>\n",
       "    </tr>\n",
       "  </thead>\n",
       "  <tbody>\n",
       "    <tr>\n",
       "      <th id=\"T_f84cb_level0_row0\" class=\"row_heading level0 row0\" >0</th>\n",
       "      <td id=\"T_f84cb_row0_col0\" class=\"data row0 col0\" >LogisticRegression</td>\n",
       "      <td id=\"T_f84cb_row0_col1\" class=\"data row0 col1\" >0.945263</td>\n",
       "    </tr>\n",
       "    <tr>\n",
       "      <th id=\"T_f84cb_level0_row1\" class=\"row_heading level0 row1\" >1</th>\n",
       "      <td id=\"T_f84cb_row1_col0\" class=\"data row1 col0\" >DecisonTreeClassifier</td>\n",
       "      <td id=\"T_f84cb_row1_col1\" class=\"data row1 col1\" >1.000000</td>\n",
       "    </tr>\n",
       "    <tr>\n",
       "      <th id=\"T_f84cb_level0_row2\" class=\"row_heading level0 row2\" >2</th>\n",
       "      <td id=\"T_f84cb_row2_col0\" class=\"data row2 col0\" >RandomForestClassifier</td>\n",
       "      <td id=\"T_f84cb_row2_col1\" class=\"data row2 col1\" >0.944211</td>\n",
       "    </tr>\n",
       "    <tr>\n",
       "      <th id=\"T_f84cb_level0_row3\" class=\"row_heading level0 row3\" >3</th>\n",
       "      <td id=\"T_f84cb_row3_col0\" class=\"data row3 col0\" >SVC</td>\n",
       "      <td id=\"T_f84cb_row3_col1\" class=\"data row3 col1\" >0.945263</td>\n",
       "    </tr>\n",
       "  </tbody>\n",
       "</table>\n"
      ],
      "text/plain": [
       "<pandas.io.formats.style.Styler at 0x2bb016d0790>"
      ]
     },
     "execution_count": 61,
     "metadata": {},
     "output_type": "execute_result"
    }
   ],
   "source": [
    "accuracy = [lra,dtc,rfc,svc]\n",
    "allmodels = ['LogisticRegression','DecisonTreeClassifier','RandomForestClassifier','SVC']\n",
    "\n",
    "score_df = pd.DataFrame({'Algorithms': allmodels, 'Accuracy_Score': accuracy})\n",
    "score_df.style.background_gradient(cmap=\"YlGnBu\",high=1,axis=0)"
   ]
  },
  {
   "cell_type": "code",
   "execution_count": 62,
   "id": "654d972b",
   "metadata": {
    "executionInfo": {
     "elapsed": 79,
     "status": "aborted",
     "timestamp": 1699598686413,
     "user": {
      "displayName": "pantech e learning",
      "userId": "02085171050783995221"
     },
     "user_tz": -330
    },
    "id": "654d972b"
   },
   "outputs": [
    {
     "data": {
      "image/png": "[encoded data removed]",
      "text/plain": [
       "<Figure size 800x600 with 1 Axes>"
      ]
     },
     "metadata": {},
     "output_type": "display_data"
    }
   ],
   "source": [
    "mylist=[]\n",
    "mylist2=[]\n",
    "mylist.append(lra)\n",
    "mylist2.append(\"Logistic Regression\")\n",
    "mylist.append(dtc)\n",
    "mylist2.append(\"Decision Tree\")\n",
    "mylist.append(rfc)\n",
    "mylist2.append(\"Random Forest\")\n",
    "mylist.append(svc)\n",
    "mylist2.append(\"SVM\")\n",
    "plt.rcParams['figure.figsize']=8,6\n",
    "sns.set_style(\"darkgrid\")\n",
    "ax = sns.barplot(x=mylist2, y=mylist, palette = \"rocket\", saturation =1.5)\n",
    "plt.xlabel(\"Classification Models\", fontsize = 20 )\n",
    "plt.ylabel(\"Accuracy\", fontsize = 20)\n",
    "plt.title(\"Accuracy of different Classification Models\", fontsize = 20)\n",
    "plt.xticks(fontsize = 11, horizontalalignment = 'center', rotation = 8)\n",
    "plt.yticks(fontsize = 13)\n",
    "for p in ax.patches:\n",
    "    width, height = p.get_width(), p.get_height()\n",
    "    x, y = p.get_xy()\n",
    "    ax.annotate(f'{height:.2%}', (x + width/2, y + height*1.02), ha='center', fontsize = 'x-large')\n",
    "plt.show()"
   ]
  },
  {
   "cell_type": "code",
   "execution_count": 63,
   "id": "9a30f537",
   "metadata": {
    "executionInfo": {
     "elapsed": 79,
     "status": "aborted",
     "timestamp": 1699598686413,
     "user": {
      "displayName": "pantech e learning",
      "userId": "02085171050783995221"
     },
     "user_tz": -330
    },
    "id": "9a30f537"
   },
   "outputs": [
    {
     "name": "stdout",
     "output_type": "stream",
     "text": [
      "This Patient Not Affected BY Stroke\n"
     ]
    }
   ],
   "source": [
    "test_data = model_2.predict(([[1,79.0,0,1,1,2,1,213.38,28.893237]]))\n",
    "if test_data[0] == 1:\n",
    "    print(\"This patient Sffected by Stroke\")\n",
    "else:\n",
    "    print(\"This Patient Not Affected BY Stroke\")"
   ]
  },
  {
   "cell_type": "code",
   "execution_count": 64,
   "id": "dde7dfe4",
   "metadata": {
    "executionInfo": {
     "elapsed": 79,
     "status": "aborted",
     "timestamp": 1699598686413,
     "user": {
      "displayName": "pantech e learning",
      "userId": "02085171050783995221"
     },
     "user_tz": -330
    },
    "id": "dde7dfe4"
   },
   "outputs": [
    {
     "name": "stdout",
     "output_type": "stream",
     "text": [
      "This patient Sffected by Stroke\n"
     ]
    }
   ],
   "source": [
    "test_data = model_2.predict(([[0,76.0,0,0,1,2,1,57.92,28.893237]]))\n",
    "if test_data[0] == 1:\n",
    "    print(\"This patient Sffected by Stroke\")\n",
    "else:\n",
    "    print(\"This Patient Not Affected BY Stroke\")"
   ]
  },
  {
   "cell_type": "code",
   "execution_count": 65,
   "id": "63322410",
   "metadata": {
    "executionInfo": {
     "elapsed": 78,
     "status": "aborted",
     "timestamp": 1699598686413,
     "user": {
      "displayName": "pantech e learning",
      "userId": "02085171050783995221"
     },
     "user_tz": -330
    },
    "id": "63322410"
   },
   "outputs": [
    {
     "name": "stdout",
     "output_type": "stream",
     "text": [
      "This Patient Not Affected BY Stroke\n"
     ]
    }
   ],
   "source": [
    "test_data = model_2.predict(([[0,41.0,0,0,1,2,0,92.64,43.8]]))\n",
    "if test_data[0] == 1:\n",
    "    print(\"This patient Sffected by Stroke\")\n",
    "else:\n",
    "    print(\"This Patient Not Affected BY Stroke\")"
   ]
  },
  {
   "cell_type": "code",
   "execution_count": 66,
   "id": "b937b6f4",
   "metadata": {
    "executionInfo": {
     "elapsed": 78,
     "status": "aborted",
     "timestamp": 1699598686413,
     "user": {
      "displayName": "pantech e learning",
      "userId": "02085171050783995221"
     },
     "user_tz": -330
    },
    "id": "b937b6f4"
   },
   "outputs": [
    {
     "name": "stdout",
     "output_type": "stream",
     "text": [
      "This Patient Not Affected BY Stroke\n"
     ]
    }
   ],
   "source": [
    "test_data = model_2.predict(([[0,57.0,0,0,1,0,1,97.39,38.0]]))\n",
    "if test_data[0] == 1:\n",
    "    print(\"This patient Affected by Stroke\")\n",
    "else:\n",
    "    print(\"This Patient Not Affected BY Stroke\")"
   ]
  },
  {
   "cell_type": "code",
   "execution_count": null,
   "id": "98f08106",
   "metadata": {
    "executionInfo": {
     "elapsed": 78,
     "status": "aborted",
     "timestamp": 1699598686413,
     "user": {
      "displayName": "pantech e learning",
      "userId": "02085171050783995221"
     },
     "user_tz": -330
    },
    "id": "98f08106"
   },
   "outputs": [],
   "source": []
  }
 ],
 "metadata": {
  "colab": {
   "provenance": []
  },
  "kernelspec": {
   "display_name": "Python 3 (ipykernel)",
   "language": "python",
   "name": "python3"
  },
  "language_info": {
   "codemirror_mode": {
    "name": "ipython",
    "version": 3
   },
   "file_extension": ".py",
   "mimetype": "text/x-python",
   "name": "python",
   "nbconvert_exporter": "python",
   "pygments_lexer": "ipython3",
   "version": "3.11.5"
  }
 },
 "nbformat": 4,
 "nbformat_minor": 5
}
